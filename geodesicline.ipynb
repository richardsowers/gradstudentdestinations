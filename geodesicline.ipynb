{
 "cells": [
  {
   "cell_type": "markdown",
   "metadata": {},
   "source": [
    "### Geodesic arcs between points ###\n",
    "by: Richard Sowers\n",
    "* <r-sowers@illinois.edu>\n",
    "* <https://publish.illinois.edu/r-sowers/>\n",
    "\n",
    "Copyright 2018 University of Illinois Board of Trustees. All Rights Reserved. Licensed under the MIT license\n",
    "\n",
    "### Explanation###\n",
    "This code computes the value of pi.  More generally, tell the reader what the point of the code is"
   ]
  },
  {
   "cell_type": "markdown",
   "metadata": {},
   "source": [
    "imports"
   ]
  },
  {
   "cell_type": "code",
   "execution_count": 1,
   "metadata": {},
   "outputs": [],
   "source": [
    "import geographiclib.geodesic\n",
    "import numpy\n",
    "geod = geographiclib.geodesic.Geodesic.WGS84"
   ]
  },
  {
   "cell_type": "markdown",
   "metadata": {},
   "source": [
    "UIUC location"
   ]
  },
  {
   "cell_type": "code",
   "execution_count": 2,
   "metadata": {},
   "outputs": [],
   "source": [
    "(UIUC_lat,UIUC_lon)=(40.1020,-88.2272)"
   ]
  },
  {
   "cell_type": "markdown",
   "metadata": {},
   "source": [
    "Compute geodesic arc from UIUC to other point"
   ]
  },
  {
   "cell_type": "code",
   "execution_count": 3,
   "metadata": {
    "scrolled": true
   },
   "outputs": [],
   "source": [
    "def makearc(other_lat,other_lon):\n",
    "    geoline = geod.InverseLine(UIUC_lat,UIUC_lon,other_lat,other_lon ,geographiclib.geodesic.Geodesic.LATITUDE | geographiclib.geodesic.Geodesic.LONGITUDE)\n",
    "    waypoints=numpy.linspace(start=0,stop=geoline.a13,num=20)\n",
    "    \n",
    "    def getlatlng(waypoint):\n",
    "        g = geoline.ArcPosition(waypoint, geographiclib.geodesic.Geodesic.LATITUDE |geographiclib.geodesic.Geodesic.LONGITUDE | geographiclib.geodesic.Geodesic.LONG_UNROLL)\n",
    "        return [g[\"lon2\"],g[\"lat2\"]]\n",
    "    \n",
    "    out=[getlatlng(waypoint) for waypoint in waypoints]\n",
    "    return out"
   ]
  },
  {
   "cell_type": "code",
   "execution_count": 4,
   "metadata": {},
   "outputs": [],
   "source": [
    "NewportBeach=(33.6189,-117.9298)\n",
    "Chicago=(41.8781,-87.6298))\n",
    "Boston=(42.3601,-71.0589)\n",
    "Minneapolis=(44.9778,-93.2650)\n",
    "Memphis=(35.1495,-90.0490)\n",
    "Austin=(30.2672,-97.7431)\n",
    "Portland=(45.5155,-122.6793)\n",
    "GreenBay=(44.5133,-88.0133)\n",
    "Peoria=(40.6936,-89.5890)\n",
    "BaskingRidge=(40.7066,-74.5493)\n",
    "Racine=(42.7261,-87.7829)"
   ]
  },
  {
   "cell_type": "code",
   "execution_count": 12,
   "metadata": {
    "scrolled": false
   },
   "outputs": [
    {
     "name": "stdout",
     "output_type": "stream",
     "text": [
      "[[-88.2272, 40.102000000000004], [-88.20468678921029, 40.24017213050894], [-88.18208168193927, 40.3783376578973], [-88.15938385370893, 40.51649654106156], [-88.13659247119672, 40.654648738525495], [-88.11370669211183, 40.79279420843419], [-88.09072566506946, 40.93093290854799], [-88.06764852946289, 41.06906479623636], [-88.0444744153336, 41.20718982847162], [-88.02120244323912, 41.345307961822556], [-87.9978317241187, 41.483419152447944], [-87.97436135915666, 41.62152335609001], [-87.95079043964367, 41.759620528067636], [-87.9271180468354, 41.89771062326964], [-87.90334325180902, 42.03579359614778], [-87.87946511531712, 42.17386940070973], [-87.85548268763924, 42.31193799051186], [-87.83139500843086, 42.449999318652], [-87.80720110656982, 42.58805333776197], [-87.78289999999998, 42.72610000000001]]\n"
     ]
    }
   ],
   "source": [
    "print(makearc(42.7261,-87.7829))"
   ]
  },
  {
   "cell_type": "code",
   "execution_count": null,
   "metadata": {},
   "outputs": [],
   "source": []
  }
 ],
 "metadata": {
  "kernelspec": {
   "display_name": "Python 3",
   "language": "python",
   "name": "python3"
  },
  "language_info": {
   "codemirror_mode": {
    "name": "ipython",
    "version": 3
   },
   "file_extension": ".py",
   "mimetype": "text/x-python",
   "name": "python",
   "nbconvert_exporter": "python",
   "pygments_lexer": "ipython3",
   "version": "3.6.5"
  }
 },
 "nbformat": 4,
 "nbformat_minor": 2
}

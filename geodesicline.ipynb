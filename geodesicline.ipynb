{
 "cells": [
  {
   "cell_type": "markdown",
   "metadata": {},
   "source": [
    "### Geodesic arcs between points ###\n",
    "by: Richard Sowers\n",
    "* <r-sowers@illinois.edu>\n",
    "* <https://publish.illinois.edu/r-sowers/>\n",
    "\n",
    "Copyright 2018 University of Illinois Board of Trustees. All Rights Reserved. Licensed under the MIT license\n",
    "\n",
    "### Explanation###\n",
    "This code computes the value of pi.  More generally, tell the reader what the point of the code is"
   ]
  },
  {
   "cell_type": "markdown",
   "metadata": {},
   "source": [
    "imports"
   ]
  },
  {
   "cell_type": "code",
   "execution_count": 2,
   "metadata": {},
   "outputs": [],
   "source": [
    "import geographiclib.geodesic\n",
    "import numpy\n",
    "geod = geographiclib.geodesic.Geodesic.WGS84"
   ]
  },
  {
   "cell_type": "markdown",
   "metadata": {},
   "source": [
    "UIUC location"
   ]
  },
  {
   "cell_type": "code",
   "execution_count": 3,
   "metadata": {},
   "outputs": [],
   "source": [
    "(UIUC_lat,UIUC_lon)=(40.1020,-88.2272)"
   ]
  },
  {
   "cell_type": "markdown",
   "metadata": {},
   "source": [
    "Compute geodesic arc from UIUC to other point"
   ]
  },
  {
   "cell_type": "code",
   "execution_count": 6,
   "metadata": {
    "scrolled": true
   },
   "outputs": [],
   "source": [
    "def makearc(latlon):\n",
    "    (other_lat,other_lon)=latlon\n",
    "    geoline = geod.InverseLine(UIUC_lat,UIUC_lon,other_lat,other_lon ,geographiclib.geodesic.Geodesic.LATITUDE | geographiclib.geodesic.Geodesic.LONGITUDE)\n",
    "    waypoints=numpy.linspace(start=0,stop=geoline.a13,num=20)\n",
    "    \n",
    "    def getlatlng(waypoint):\n",
    "        g = geoline.ArcPosition(waypoint, geographiclib.geodesic.Geodesic.LATITUDE |geographiclib.geodesic.Geodesic.LONGITUDE | geographiclib.geodesic.Geodesic.LONG_UNROLL)\n",
    "        return [g[\"lon2\"],g[\"lat2\"]]\n",
    "    \n",
    "    out=[getlatlng(waypoint) for waypoint in waypoints]\n",
    "    return out"
   ]
  },
  {
   "cell_type": "code",
   "execution_count": 8,
   "metadata": {},
   "outputs": [],
   "source": [
    "NewportBeach=(33.6189,-117.9298)\n",
    "Chicago=(41.8781,-87.6298)\n",
    "Boston=(42.3601,-71.0589)\n",
    "Minneapolis=(44.9778,-93.2650)\n",
    "Memphis=(35.1495,-90.0490)\n",
    "Austin=(30.2672,-97.7431)\n",
    "Portland=(45.5155,-122.6793)\n",
    "GreenBay=(44.5133,-88.0133)\n",
    "Peoria=(40.6936,-89.5890)\n",
    "BaskingRidge=(40.7066,-74.5493)\n",
    "Racine=(42.7261,-87.7829)\n",
    "Mumbai=(19.0760,72.8777)"
   ]
  },
  {
   "cell_type": "code",
   "execution_count": 9,
   "metadata": {
    "scrolled": false
   },
   "outputs": [
    {
     "name": "stdout",
     "output_type": "stream",
     "text": [
      "[[-88.2272, 40.102000000000004], [-85.14044795371228, 45.91194694030802], [-81.33836881746798, 51.615259981373974], [-76.45996369544912, 57.15679202138001], [-69.90841673328453, 62.43982539470008], [-60.68941625465706, 67.28480375768015], [-47.289833206789034, 71.34898143257439], [-28.31577040431285, 74.02655043921595], [-5.298563612944562, 74.57858566264994], [16.03974329775285, 72.79938633440625], [31.91352694844886, 69.2805701497248], [42.8408156544274, 64.73806828127331], [50.46455007271, 59.62675552071987], [56.018685142066616, 54.18840269600895], [60.25969475890038, 48.55076270566179], [63.64088407447413, 42.78469742708616], [66.44133638200681, 36.931983912084114], [68.84009982806442, 31.018825307509953], [70.95735602219402, 25.062697038905743], [72.87770000000002, 19.076]]\n"
     ]
    }
   ],
   "source": [
    "print(makearc(Mumbai))"
   ]
  },
  {
   "cell_type": "code",
   "execution_count": null,
   "metadata": {},
   "outputs": [],
   "source": []
  }
 ],
 "metadata": {
  "kernelspec": {
   "display_name": "Python 3",
   "language": "python",
   "name": "python3"
  },
  "language_info": {
   "codemirror_mode": {
    "name": "ipython",
    "version": 3
   },
   "file_extension": ".py",
   "mimetype": "text/x-python",
   "name": "python",
   "nbconvert_exporter": "python",
   "pygments_lexer": "ipython3",
   "version": "3.7.3"
  }
 },
 "nbformat": 4,
 "nbformat_minor": 2
}
